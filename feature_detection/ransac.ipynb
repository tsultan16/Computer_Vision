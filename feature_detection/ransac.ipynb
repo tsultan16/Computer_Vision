{
 "cells": [
  {
   "cell_type": "code",
   "execution_count": 40,
   "metadata": {},
   "outputs": [],
   "source": [
    "import cv2\n",
    "import numpy as np\n",
    "import matplotlib.pyplot as plt\n",
    "import random"
   ]
  },
  {
   "cell_type": "markdown",
   "metadata": {},
   "source": [
    "#### RANSAC (Random Sample Consensus) Algorithm steps:\n",
    "\n",
    "1) Sample `s` points from the data\n",
    "2) Compute model parameters\n",
    "3) Count number of inliers, i.e. how many points from the dataset fit the model (upto a threshold)\n",
    "4) Repeat until we find model with largest inlier ratio (number of iterations need to be set appropriately to maximize the probability of finding this best model)"
   ]
  },
  {
   "cell_type": "markdown",
   "metadata": {},
   "source": [
    "#### Lets use RANSAC to fit a linear model to 2d data"
   ]
  },
  {
   "cell_type": "code",
   "execution_count": 30,
   "metadata": {},
   "outputs": [
    {
     "data": {
      "image/png": "[encoded data removed]",
      "text/plain": [
       "<Figure size 600x600 with 1 Axes>"
      ]
     },
     "metadata": {},
     "output_type": "display_data"
    }
   ],
   "source": [
    "nsamples = 100\n",
    "outlier_ratio = 0.25\n",
    "\n",
    "np.random.seed(1)\n",
    "\n",
    "# first, generate some sample data\n",
    "x = 20*np.random.random(size=(nsamples))\n",
    "\n",
    "# generate a random slope and intercept for the line\n",
    "m = 2.0*np.random.normal()\n",
    "c = 20*np.random.random()\n",
    "\n",
    "y = m * x  + c\n",
    "\n",
    "# now add some gaussian random noise to the data\n",
    "x_noisy = x + 0.5*np.random.normal(size=x.shape)\n",
    "y_noisy = y + 0.5*np.random.normal(size=y.shape)\n",
    "\n",
    "# now add some outliers (i.e. randomly select a subset of points, and replace them with outlier points)\n",
    "n_outliers = int(nsamples * outlier_ratio)\n",
    "indices = np.arange(nsamples)\n",
    "np.random.shuffle(indices)\n",
    "outlier_indices = indices[0:n_outliers]\n",
    "inlier_indices =  indices[n_outliers:]\n",
    "\n",
    "x_noisy[outlier_indices] = 20*np.random.random(size=(n_outliers))\n",
    "y_noisy[outlier_indices[0:int(n_outliers/2)]] +=  15 + 10*np.random.random(size=(int(n_outliers/2)))\n",
    "y_noisy[outlier_indices[int(n_outliers/2):]] +=  -15 - 10*np.random.random(size=(n_outliers-int(n_outliers/2)))\n",
    "\n",
    "\n",
    "# plot the data\n",
    "plt.figure(figsize=(6,6))\n",
    "plt.plot(x_noisy[inlier_indices], y_noisy[inlier_indices], marker='o', linestyle='None', color='green', )\n",
    "plt.plot(x_noisy[outlier_indices], y_noisy[outlier_indices], marker='o', linestyle='None', color='red')\n",
    "plt.plot(x,y, linestyle='-')\n",
    "plt.show()\n",
    "\n"
   ]
  },
  {
   "cell_type": "markdown",
   "metadata": {},
   "source": [
    "#### Now let's implement the RANSAC loop"
   ]
  },
  {
   "cell_type": "code",
   "execution_count": 44,
   "metadata": {},
   "outputs": [],
   "source": [
    "# computes perpendicular distance from the line with (slope,intercept) = (m,c) to the point (x0,y0)\n",
    "def perp_distance(m,c, x0, y0):\n",
    "    d = np.abs(y0 - (m*x0 + c)) /np.sqrt(1 + m**2)     \n",
    "    return d\n",
    "\n",
    "\n",
    "def inlier_rat(data, model_params, threshold):\n",
    "    # loop over every data point\n",
    "    inlier_count = 0\n",
    "    for i in range(len(data)):\n",
    "        x, y = data[i,0], data[i,1] \n",
    "        # compute perpendicular distance from line\n",
    "        d = perp_distance(model_params[0], model_params[1], x, y)\n",
    "        # check if inlier (i.e. distance within threshold)\n",
    "        if(d < threshold):\n",
    "            inlier_count += 1\n",
    "\n",
    "    \n",
    "\n",
    "\n",
    "\n",
    "def RANSAC(x, y, num_iters=1, threshold=2.0):\n",
    "\n",
    "    data = np.array(list(zip(x,y)))\n",
    "\n",
    "    for i in range(num_iters):\n",
    "\n",
    "        # select two points uniformly at random\n",
    "        indices = np.arange(len(data))\n",
    "        np.random.shuffle(indices)\n",
    "        indices_sample = indices[:2]\n",
    "        indices_other = indices[2:]\n",
    "        sample = data[indices_sample]\n",
    "\n",
    "        # compute model parameters\n",
    "        slope = (sample[1,1] - sample[0,1])/ (sample[1,0] - sample[0,0])\n",
    "        intercept = sample[1,1] - slope * sample[1,0]\n",
    "        model_params = (slope, intercept)\n",
    "\n",
    "        # compute inlier ratio (exlude the sample points)\n",
    "        inlier_ratio = inlier_rat(data[indices_other], model_params, threshold) \n"
   ]
  },
  {
   "cell_type": "code",
   "execution_count": 45,
   "metadata": {},
   "outputs": [
    {
     "name": "stdout",
     "output_type": "stream",
     "text": [
      "[(2.8659102322883294, 19.34195108802959), (18.07505244162346, 29.393338386055817)]\n"
     ]
    }
   ],
   "source": [
    "RANSAC(x_noisy, y_noisy)"
   ]
  },
  {
   "cell_type": "code",
   "execution_count": null,
   "metadata": {},
   "outputs": [],
   "source": []
  }
 ],
 "metadata": {
  "kernelspec": {
   "display_name": "tf_cv",
   "language": "python",
   "name": "python3"
  },
  "language_info": {
   "codemirror_mode": {
    "name": "ipython",
    "version": 3
   },
   "file_extension": ".py",
   "mimetype": "text/x-python",
   "name": "python",
   "nbconvert_exporter": "python",
   "pygments_lexer": "ipython3",
   "version": "3.9.17"
  },
  "orig_nbformat": 4
 },
 "nbformat": 4,
 "nbformat_minor": 2
}
